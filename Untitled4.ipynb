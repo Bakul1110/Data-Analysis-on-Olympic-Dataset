{
  "cells": [
    {
      "cell_type": "code",
      "execution_count": 4,
      "metadata": {
        "colab": {
          "base_uri": "https://localhost:8080/"
        },
        "id": "lKMn9WKJtsGw",
        "outputId": "f5ba9028-3d99-4a39-8994-2d2aa9f636b0"
      },
      "outputs": [
        {
          "name": "stdout",
          "output_type": "stream",
          "text": [
            "Looking in indexes: https://pypi.org/simple, https://us-python.pkg.dev/colab-wheels/public/simple/\n",
            "Requirement already satisfied: pyspark in /usr/local/lib/python3.7/dist-packages (3.2.1)\n",
            "Requirement already satisfied: py4j==0.10.9.3 in /usr/local/lib/python3.7/dist-packages (from pyspark) (0.10.9.3)\n"
          ]
        }
      ],
      "source": [
        "!pip install pyspark"
      ]
    },
    {
      "cell_type": "code",
      "execution_count": 7,
      "metadata": {
        "id": "rqDdOuHqtw-H"
      },
      "outputs": [],
      "source": [
        "from pyspark import SparkContext, SparkConf\n",
        "from pyspark.sql import SparkSession\n",
        "conf = SparkConf().setAppName(\"leanrpys\")\n",
        "#sc = SparkContext(conf = conf)\n",
        "spark = SparkSession.builder.appName(\"Learnps\").getOrCreate()\n"
      ]
    },
    {
      "cell_type": "code",
      "execution_count": null,
      "metadata": {
        "id": "3tgj8Mspb-gh"
      },
      "outputs": [],
      "source": [
        "spark = SparkSession.builder.appName(\"sample\").getOrCreate()"
      ]
    },
    {
      "cell_type": "code",
      "execution_count": 8,
      "metadata": {
        "colab": {
          "base_uri": "https://localhost:8080/",
          "height": 196
        },
        "id": "Qh9AIpjIyfmS",
        "outputId": "20cd2cff-467f-47d9-9fe3-14888cd0a6ea"
      },
      "outputs": [
        {
          "data": {
            "text/html": [
              "\n",
              "        <div>\n",
              "            <p><b>SparkContext</b></p>\n",
              "\n",
              "            <p><a href=\"http://122064d770f6:4040\">Spark UI</a></p>\n",
              "\n",
              "            <dl>\n",
              "              <dt>Version</dt>\n",
              "                <dd><code>v3.2.1</code></dd>\n",
              "              <dt>Master</dt>\n",
              "                <dd><code>local[*]</code></dd>\n",
              "              <dt>AppName</dt>\n",
              "                <dd><code>leanrpys</code></dd>\n",
              "            </dl>\n",
              "        </div>\n",
              "        "
            ],
            "text/plain": [
              "<SparkContext master=local[*] appName=leanrpys>"
            ]
          },
          "execution_count": 8,
          "metadata": {},
          "output_type": "execute_result"
        }
      ],
      "source": [
        "sc"
      ]
    },
    {
      "cell_type": "code",
      "execution_count": 9,
      "metadata": {
        "colab": {
          "base_uri": "https://localhost:8080/",
          "height": 219
        },
        "id": "Y3ZCLT8AygUu",
        "outputId": "cd096deb-d12a-4a00-a0f8-46e98390dfca"
      },
      "outputs": [
        {
          "data": {
            "text/html": [
              "\n",
              "            <div>\n",
              "                <p><b>SparkSession - in-memory</b></p>\n",
              "                \n",
              "        <div>\n",
              "            <p><b>SparkContext</b></p>\n",
              "\n",
              "            <p><a href=\"http://122064d770f6:4040\">Spark UI</a></p>\n",
              "\n",
              "            <dl>\n",
              "              <dt>Version</dt>\n",
              "                <dd><code>v3.2.1</code></dd>\n",
              "              <dt>Master</dt>\n",
              "                <dd><code>local[*]</code></dd>\n",
              "              <dt>AppName</dt>\n",
              "                <dd><code>leanrpys</code></dd>\n",
              "            </dl>\n",
              "        </div>\n",
              "        \n",
              "            </div>\n",
              "        "
            ],
            "text/plain": [
              "<pyspark.sql.session.SparkSession at 0x7f355170a810>"
            ]
          },
          "execution_count": 9,
          "metadata": {},
          "output_type": "execute_result"
        }
      ],
      "source": [
        "spark"
      ]
    },
    {
      "cell_type": "code",
      "execution_count": 10,
      "metadata": {
        "colab": {
          "base_uri": "https://localhost:8080/"
        },
        "id": "yb-GrPs8ytnT",
        "outputId": "cd40bfc7-1489-4fa9-fa3f-985cb8192c3c"
      },
      "outputs": [
        {
          "data": {
            "text/plain": [
              "<pyspark.conf.SparkConf at 0x7f355963b950>"
            ]
          },
          "execution_count": 10,
          "metadata": {},
          "output_type": "execute_result"
        }
      ],
      "source": [
        "\n",
        "conf"
      ]
    },
    {
      "cell_type": "code",
      "execution_count": null,
      "metadata": {
        "colab": {
          "base_uri": "https://localhost:8080/"
        },
        "id": "yI8xbHv_yxv0",
        "outputId": "da9d0035-ffef-4ba4-9c7c-d3d93291b793"
      },
      "outputs": [
        {
          "name": "stdout",
          "output_type": "stream",
          "text": [
            "+---+-------------+-------+---------+-------+-------+-------+----+--------+---+-----+--------+--------+-----+--------+--------+---+\n",
            "|age|          job|marital|education|default|balance|housing|loan| contact|day|month|duration|campaign|pdays|previous|poutcome|  y|\n",
            "+---+-------------+-------+---------+-------+-------+-------+----+--------+---+-----+--------+--------+-----+--------+--------+---+\n",
            "| 30|   unemployed|married|  primary|     no|   1787|     no|  no|cellular| 19|  oct|      79|       1|   -1|       0| unknown| no|\n",
            "| 33|     services|married|secondary|     no|   4789|    yes| yes|cellular| 11|  may|     220|       1|  339|       4| failure| no|\n",
            "| 35|   management| single| tertiary|     no|   1350|    yes|  no|cellular| 16|  apr|     185|       1|  330|       1| failure| no|\n",
            "| 30|   management|married| tertiary|     no|   1476|    yes| yes| unknown|  3|  jun|     199|       4|   -1|       0| unknown| no|\n",
            "| 59|  blue-collar|married|secondary|     no|      0|    yes|  no| unknown|  5|  may|     226|       1|   -1|       0| unknown| no|\n",
            "| 35|   management| single| tertiary|     no|    747|     no|  no|cellular| 23|  feb|     141|       2|  176|       3| failure| no|\n",
            "| 36|self-employed|married| tertiary|     no|    307|    yes|  no|cellular| 14|  may|     341|       1|  330|       2|   other| no|\n",
            "| 39|   technician|married|secondary|     no|    147|    yes|  no|cellular|  6|  may|     151|       2|   -1|       0| unknown| no|\n",
            "| 41| entrepreneur|married| tertiary|     no|    221|    yes|  no| unknown| 14|  may|      57|       2|   -1|       0| unknown| no|\n",
            "| 43|     services|married|  primary|     no|    -88|    yes| yes|cellular| 17|  apr|     313|       1|  147|       2| failure| no|\n",
            "| 39|     services|married|secondary|     no|   9374|    yes|  no| unknown| 20|  may|     273|       1|   -1|       0| unknown| no|\n",
            "| 43|       admin.|married|secondary|     no|    264|    yes|  no|cellular| 17|  apr|     113|       2|   -1|       0| unknown| no|\n",
            "| 36|   technician|married| tertiary|     no|   1109|     no|  no|cellular| 13|  aug|     328|       2|   -1|       0| unknown| no|\n",
            "| 20|      student| single|secondary|     no|    502|     no|  no|cellular| 30|  apr|     261|       1|   -1|       0| unknown|yes|\n",
            "| 31|  blue-collar|married|secondary|     no|    360|    yes| yes|cellular| 29|  jan|      89|       1|  241|       1| failure| no|\n",
            "| 40|   management|married| tertiary|     no|    194|     no| yes|cellular| 29|  aug|     189|       2|   -1|       0| unknown| no|\n",
            "| 56|   technician|married|secondary|     no|   4073|     no|  no|cellular| 27|  aug|     239|       5|   -1|       0| unknown| no|\n",
            "| 37|       admin.| single| tertiary|     no|   2317|    yes|  no|cellular| 20|  apr|     114|       1|  152|       2| failure| no|\n",
            "| 25|  blue-collar| single|  primary|     no|   -221|    yes|  no| unknown| 23|  may|     250|       1|   -1|       0| unknown| no|\n",
            "| 31|     services|married|secondary|     no|    132|     no|  no|cellular|  7|  jul|     148|       1|  152|       1|   other| no|\n",
            "+---+-------------+-------+---------+-------+-------+-------+----+--------+---+-----+--------+--------+-----+--------+--------+---+\n",
            "only showing top 20 rows\n",
            "\n"
          ]
        }
      ],
      "source": [
        "df = spark.read.format(\"csv\").option(\"delimiter\", \";\").option(\"header\", \"true\").option(\"inferSchema\",\"true\").load(\"/content/test.csv\")  \n",
        "df.show()"
      ]
    },
    {
      "cell_type": "code",
      "execution_count": null,
      "metadata": {
        "colab": {
          "base_uri": "https://localhost:8080/"
        },
        "id": "O9j-uoCQzDSn",
        "outputId": "d9dd241f-f5af-411a-8684-9487af88190a"
      },
      "outputs": [
        {
          "name": "stdout",
          "output_type": "stream",
          "text": [
            "+-------------+------------+\n",
            "|          job|sum(balance)|\n",
            "+-------------+------------+\n",
            "|   management|     1712154|\n",
            "|  blue-collar|     1026563|\n",
            "|   technician|     1022205|\n",
            "|       admin.|      586380|\n",
            "|      retired|      533414|\n",
            "|     services|      460350|\n",
            "| entrepreneur|      276381|\n",
            "|self-employed|      254811|\n",
            "|    housemaid|      233386|\n",
            "|   unemployed|      139446|\n",
            "|      student|      129681|\n",
            "|      unknown|       57065|\n",
            "+-------------+------------+\n",
            "\n"
          ]
        }
      ],
      "source": [
        "import pyspark.sql.functions as f \n",
        "job_bal = df.groupBy(\"job\").sum(\"balance\").alias(\"Total Balance\").orderBy(f.desc(\"sum(balance)\")).show()\n",
        "job_bal\n",
        "#the resulting table is the sum of balance for each job"
      ]
    },
    {
      "cell_type": "code",
      "execution_count": 14,
      "metadata": {
        "colab": {
          "base_uri": "https://localhost:8080/"
        },
        "id": "tanM37bZzDdz",
        "outputId": "57f70937-4305-487f-b385-201347571e04"
      },
      "outputs": [
        {
          "data": {
            "text/plain": [
              "['This is Apache spark class, and spark is latest Technology in Big Data FrameWork.',\n",
              " 'This is Apache spark class, and spark is latest Technology in Big Data FrameWork.']"
            ]
          },
          "execution_count": 14,
          "metadata": {},
          "output_type": "execute_result"
        }
      ],
      "source": [
        "rdd_1 = sc.textFile(\"/content/test_first (1)chat\")\n",
        "rdd_1.collect()"
      ]
    },
    {
      "cell_type": "code",
      "execution_count": 15,
      "metadata": {
        "colab": {
          "base_uri": "https://localhost:8080/"
        },
        "id": "lM7pe_HazDik",
        "outputId": "ab736c79-c464-414e-cdf2-8a7dfcca7c55"
      },
      "outputs": [
        {
          "data": {
            "text/plain": [
              "[('This is Apache spark class, and spark is latest Technology in Big Data FrameWork.',\n",
              "  81),\n",
              " ('This is Apache spark class, and spark is latest Technology in Big Data FrameWork.',\n",
              "  81)]"
            ]
          },
          "execution_count": 15,
          "metadata": {},
          "output_type": "execute_result"
        }
      ],
      "source": [
        "rdd_2 = rdd_1.map(lambda x: (x,len(x)))\n",
        "rdd_2.collect()\n",
        "\n"
      ]
    },
    {
      "cell_type": "code",
      "execution_count": 16,
      "metadata": {
        "colab": {
          "base_uri": "https://localhost:8080/"
        },
        "id": "ts9ZYszqzDlc",
        "outputId": "0198d797-dbfe-43ff-9677-eb23fccae58e"
      },
      "outputs": [
        {
          "data": {
            "text/plain": [
              "['This',\n",
              " 'is',\n",
              " 'Apache',\n",
              " 'spark',\n",
              " 'class,',\n",
              " 'and',\n",
              " 'spark',\n",
              " 'is',\n",
              " 'latest',\n",
              " 'Technology',\n",
              " 'in',\n",
              " 'Big',\n",
              " 'Data',\n",
              " 'FrameWork']"
            ]
          },
          "execution_count": 16,
          "metadata": {},
          "output_type": "execute_result"
        }
      ],
      "source": [
        "string = \"This is Apache spark class, and spark is latest Technology in Big Data FrameWork\"\n",
        "split_text = string.split(\" \")\n",
        "split_text"
      ]
    },
    {
      "cell_type": "code",
      "execution_count": 26,
      "metadata": {
        "id": "TofAjqexzDo1"
      },
      "outputs": [],
      "source": [
        "rdd_split = rdd_1.flatMap(lambda x:x.split(\" \")) \n",
        "#this is how we can split the lines into words and can get it in the form of a list of words\n"
      ]
    },
    {
      "cell_type": "code",
      "execution_count": 27,
      "metadata": {
        "colab": {
          "base_uri": "https://localhost:8080/"
        },
        "id": "a_px0oxDRZSm",
        "outputId": "2ce982e9-4555-4d93-eabf-008f4c79d941"
      },
      "outputs": [
        {
          "data": {
            "text/plain": [
              "['This',\n",
              " 'is',\n",
              " 'Apache',\n",
              " 'spark',\n",
              " 'class,',\n",
              " 'and',\n",
              " 'spark',\n",
              " 'is',\n",
              " 'latest',\n",
              " 'Technology',\n",
              " 'in',\n",
              " 'Big',\n",
              " 'Data',\n",
              " 'FrameWork.',\n",
              " 'This',\n",
              " 'is',\n",
              " 'Apache',\n",
              " 'spark',\n",
              " 'class,',\n",
              " 'and',\n",
              " 'spark',\n",
              " 'is',\n",
              " 'latest',\n",
              " 'Technology',\n",
              " 'in',\n",
              " 'Big',\n",
              " 'Data',\n",
              " 'FrameWork.']"
            ]
          },
          "execution_count": 27,
          "metadata": {},
          "output_type": "execute_result"
        }
      ],
      "source": [
        "rdd_split.collect()"
      ]
    },
    {
      "cell_type": "code",
      "execution_count": null,
      "metadata": {
        "id": "J7q29uOxRpQ-"
      },
      "outputs": [],
      "source": []
    }
  ],
  "metadata": {
    "colab": {
      "collapsed_sections": [],
      "name": "Untitled4.ipynb",
      "provenance": []
    },
    "kernelspec": {
      "display_name": "Python 3",
      "name": "python3"
    },
    "language_info": {
      "name": "python"
    }
  },
  "nbformat": 4,
  "nbformat_minor": 0
}
